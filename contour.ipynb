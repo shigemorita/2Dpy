{
 "cells": [
  {
   "cell_type": "code",
   "execution_count": null,
   "metadata": {},
   "outputs": [],
   "source": [
    "import numpy\n",
    "import pandas\n",
    "from matplotlib import pyplot\n",
    "from matplotlib import ticker"
   ]
  },
  {
   "cell_type": "code",
   "execution_count": null,
   "metadata": {},
   "outputs": [],
   "source": [
    "data_file='contour.csv'\n",
    "num_contour=16\n",
    "pyplot.rcParams['axes.linewidth']=1.5\n",
    "pyplot.rcParams['figure.dpi']=100\n",
    "pyplot.rcParams['figure.figsize']=(4,4)\n",
    "pyplot.rcParams['font.family']='serif'\n",
    "pyplot.rcParams['font.size']=16\n",
    "pyplot.rcParams['xtick.major.width']=1.5\n",
    "pyplot.rcParams['ytick.major.width']=1.5\n",
    "pyplot.rcParams['xtick.minor.width']=1.5\n",
    "pyplot.rcParams['ytick.minor.width']=1.5\n",
    "pyplot.rcParams['xtick.major.size']=6\n",
    "pyplot.rcParams['ytick.major.size']=6\n",
    "pyplot.rcParams['xtick.minor.size']=3\n",
    "pyplot.rcParams['ytick.minor.size']=3\n",
    "pyplot.rcParams['xtick.top']=True\n",
    "pyplot.rcParams['ytick.right']=True\n",
    "pyplot.rcParams['xtick.direction']='in'\n",
    "pyplot.rcParams['ytick.direction']='in'"
   ]
  },
  {
   "cell_type": "code",
   "execution_count": null,
   "metadata": {},
   "outputs": [],
   "source": [
    "data=pandas.read_csv(data_file,header=0,index_col=0)\n",
    "x=data.columns[0:].astype(float)\n",
    "y=data.index[0:].astype(float)\n",
    "z=data.values\n",
    "zmax=numpy.absolute(z).max()"
   ]
  },
  {
   "cell_type": "code",
   "execution_count": null,
   "metadata": {},
   "outputs": [],
   "source": [
    "fig=pyplot.figure()\n",
    "ax=fig.add_subplot(1,1,1)\n",
    "ax.contour(x,y,z,num_contour,cmap='bwr',vmin=-1*zmax,vmax=zmax)\n",
    "\n",
    "ax.set_xlim(1200,1000)\n",
    "ax.set_xticks(numpy.arange(1200,1000-1,-50))\n",
    "ax.xaxis.set_minor_locator(ticker.MultipleLocator(10))\n",
    "\n",
    "ax.set_ylim(1200,1000)\n",
    "ax.set_yticks(numpy.arange(1200,1000-1,-50))\n",
    "ax.yaxis.set_minor_locator(ticker.MultipleLocator(10))\n",
    "\n",
    "ax.set_title('Synchronous')\n",
    "ax.set_xlabel(r\"$\\nu$${_{1}}$ / cm${^{-1}}$\")\n",
    "ax.set_ylabel(r\"$\\nu$${_{2}}$ / cm${^{-1}}$\")\n",
    "\n",
    "pyplot.savefig('contour.png',dpi=200,bbox_inches='tight')"
   ]
  },
  {
   "cell_type": "code",
   "execution_count": null,
   "metadata": {},
   "outputs": [],
   "source": [
    "fig=pyplot.figure()\n",
    "ax=fig.add_subplot(1,1,1)\n",
    "ax.contour(x,y,z,num_contour,cmap='bwr',vmin=-1*zmax,vmax=zmax)"
   ]
  },
  {
   "cell_type": "code",
   "execution_count": null,
   "metadata": {},
   "outputs": [],
   "source": [
    "fig=pyplot.figure()\n",
    "ax=fig.add_subplot(1,1,1)\n",
    "ax.pcolormesh(x,y,z,cmap='bwr',vmin=-1*zmax,vmax=zmax)"
   ]
  },
  {
   "cell_type": "code",
   "execution_count": null,
   "metadata": {},
   "outputs": [],
   "source": [
    "fig=pyplot.figure()\n",
    "ax=fig.add_subplot(1,1,1)\n",
    "ax.contour(x,y,z,num_contour,colors='black',linewidths=0.5,linestyles='solid',vmin=-1*zmax,vmax=zmax)\n",
    "ax.pcolormesh(x,y,z,cmap='jet',vmin=-1*zmax,vmax=zmax)"
   ]
  },
  {
   "cell_type": "code",
   "execution_count": null,
   "metadata": {},
   "outputs": [],
   "source": [
    "fig=pyplot.figure()\n",
    "ax=fig.add_subplot(1,1,1)\n",
    "ax.contour(x,y,z,num_contour,colors='black',linewidths=0.5,vmin=-1*zmax,vmax=zmax)\n",
    "ax.contourf(x,y,z,levels=0,colors=['gray','white'],vmin=-1*zmax,vmax=zmax)"
   ]
  }
 ],
 "metadata": {
  "kernelspec": {
   "display_name": "Python 3",
   "language": "python",
   "name": "python3"
  },
  "language_info": {
   "codemirror_mode": {
    "name": "ipython",
    "version": 3
   },
   "file_extension": ".py",
   "mimetype": "text/x-python",
   "name": "python",
   "nbconvert_exporter": "python",
   "pygments_lexer": "ipython3",
   "version": "3.7.1"
  }
 },
 "nbformat": 4,
 "nbformat_minor": 2
}
