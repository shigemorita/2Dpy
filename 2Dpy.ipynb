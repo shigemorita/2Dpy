{
 "cells": [
  {
   "cell_type": "code",
   "execution_count": null,
   "metadata": {},
   "outputs": [],
   "source": [
    "import math\n",
    "import numpy\n",
    "import pandas\n",
    "from matplotlib import pyplot"
   ]
  },
  {
   "cell_type": "code",
   "execution_count": null,
   "metadata": {},
   "outputs": [],
   "source": [
    "hetero = False\n",
    "inputfile1 = \"spec.csv\"\n",
    "\n",
    "# hetero=True\n",
    "# inputfile1=\"spec1.csv\"\n",
    "# inputfile2=\"spec2.csv\"\n",
    "\n",
    "left_large = True\n",
    "dynamic = True\n",
    "num_contour = 16"
   ]
  },
  {
   "cell_type": "code",
   "execution_count": null,
   "metadata": {},
   "outputs": [],
   "source": [
    "# file read\n",
    "spec1 = pandas.read_csv(inputfile1, header=0, index_col=0).T\n",
    "if hetero == False:\n",
    "    inputfile2 = inputfile1\n",
    "spec2 = pandas.read_csv(inputfile2, header=0, index_col=0).T\n",
    "if len(spec1) != len(spec2):\n",
    "    raise Exception(\"data mismatching\")\n",
    "spec1.T.plot(legend=None)\n",
    "if left_large: pyplot.xlim(max(spec1.columns), min(spec1.columns))\n",
    "if hetero:\n",
    "    spec2.T.plot(legend=None)\n",
    "    if left_large: pyplot.xlim(max(spec2.columns), min(spec2.columns))\n",
    "if dynamic:\n",
    "    spec1 = spec1 - spec1.mean()\n",
    "    spec2 = spec2 - spec2.mean()"
   ]
  },
  {
   "cell_type": "code",
   "execution_count": null,
   "metadata": {},
   "outputs": [],
   "source": [
    "def contourplot(spec):\n",
    "    x = spec.columns[0:].astype(float)\n",
    "    y = spec.index[0:].astype(float)\n",
    "    z = spec.values\n",
    "    zmax = numpy.absolute(z).max()\n",
    "    pyplot.figure(figsize=(6, 6))\n",
    "    pyplot.contour(x, y, z, num_contour, cmap=\"bwr\", vmin=-1 * zmax, vmax=zmax)\n",
    "    # pyplot.pcolormesh(x,y,z,cmap='jet',vmin=-1*zmax,vmax=zmax)\n",
    "    if left_large:\n",
    "        pyplot.xlim(max(x), min(x))\n",
    "        pyplot.ylim(max(y), min(y))"
   ]
  },
  {
   "cell_type": "code",
   "execution_count": null,
   "metadata": {},
   "outputs": [],
   "source": [
    "# synchronous correlation\n",
    "sync = pandas.DataFrame(spec1.values.T @ spec2.values / (len(spec1) - 1))\n",
    "sync.index = spec1.columns\n",
    "sync.columns = spec2.columns\n",
    "sync = sync.T\n",
    "contourplot(sync)\n",
    "sync.to_csv(inputfile1[: len(inputfile1) - 4] + \"_sync.csv\")"
   ]
  },
  {
   "cell_type": "code",
   "execution_count": null,
   "metadata": {},
   "outputs": [],
   "source": [
    "# Hilbert-Noda transformation matrix\n",
    "noda = numpy.zeros((len(spec1), len(spec1)))\n",
    "for i in range(len(spec1)):\n",
    "    for j in range(len(spec1)):\n",
    "        if i != j: noda[i, j] = 1 / math.pi / (j - i)"
   ]
  },
  {
   "cell_type": "code",
   "execution_count": null,
   "metadata": {},
   "outputs": [],
   "source": [
    "# asynchronouse correlation\n",
    "asyn = pandas.DataFrame(spec1.values.T @ noda @ spec2.values / (len(spec1) - 1))\n",
    "asyn.index = spec1.columns\n",
    "asyn.columns = spec2.columns\n",
    "asyn = asyn.T\n",
    "contourplot(asyn)\n",
    "asyn.to_csv(inputfile1[: len(inputfile1) - 4] + \"_async.csv\")"
   ]
  }
 ],
 "metadata": {
  "kernelspec": {
   "display_name": "Python 3",
   "language": "python",
   "name": "python3"
  },
  "language_info": {
   "codemirror_mode": {
    "name": "ipython",
    "version": 3
   },
   "file_extension": ".py",
   "mimetype": "text/x-python",
   "name": "python",
   "nbconvert_exporter": "python",
   "pygments_lexer": "ipython3",
   "version": "3.8.12"
  }
 },
 "nbformat": 4,
 "nbformat_minor": 2
}
